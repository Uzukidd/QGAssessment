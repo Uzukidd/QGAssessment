{
 "cells": [
  {
   "cell_type": "code",
   "execution_count": 1,
   "metadata": {},
   "outputs": [],
   "source": [
    "from sklearn.model_selection import train_test_split\n",
    "from sklearn.neural_network import MLPClassifier\n",
    "from sklearn.datasets import fetch_openml\n",
    "\n",
    "mnist = fetch_openml('mnist_784')\n",
    "\n",
    "X = mnist.data/255.\n",
    "\n",
    "y = mnist.target\n",
    "\n",
    "X_train, X_test, y_train, y_test = train_test_split (X, y, train_size= 50000, test_size=10000,random_state=62)\n"
   ]
  },
  {
   "cell_type": "code",
   "execution_count": 2,
   "metadata": {},
   "outputs": [],
   "source": [
    "result1 = []\n",
    "\n",
    "result = []"
   ]
  },
  {
   "cell_type": "code",
   "execution_count": 3,
   "metadata": {
    "scrolled": false
   },
   "outputs": [
    {
     "name": "stderr",
     "output_type": "stream",
     "text": [
      "C:\\Users\\uzuki\\anaconda3\\lib\\site-packages\\sklearn\\neural_network\\_multilayer_perceptron.py:571: ConvergenceWarning: Stochastic Optimizer: Maximum iterations (1) reached and the optimization hasn't converged yet.\n",
      "  % self.max_iter, ConvergenceWarning)\n",
      "C:\\Users\\uzuki\\anaconda3\\lib\\site-packages\\sklearn\\neural_network\\_multilayer_perceptron.py:571: ConvergenceWarning: Stochastic Optimizer: Maximum iterations (2) reached and the optimization hasn't converged yet.\n",
      "  % self.max_iter, ConvergenceWarning)\n",
      "C:\\Users\\uzuki\\anaconda3\\lib\\site-packages\\sklearn\\neural_network\\_multilayer_perceptron.py:571: ConvergenceWarning: Stochastic Optimizer: Maximum iterations (3) reached and the optimization hasn't converged yet.\n",
      "  % self.max_iter, ConvergenceWarning)\n",
      "C:\\Users\\uzuki\\anaconda3\\lib\\site-packages\\sklearn\\neural_network\\_multilayer_perceptron.py:571: ConvergenceWarning: Stochastic Optimizer: Maximum iterations (4) reached and the optimization hasn't converged yet.\n",
      "  % self.max_iter, ConvergenceWarning)\n",
      "C:\\Users\\uzuki\\anaconda3\\lib\\site-packages\\sklearn\\neural_network\\_multilayer_perceptron.py:571: ConvergenceWarning: Stochastic Optimizer: Maximum iterations (5) reached and the optimization hasn't converged yet.\n",
      "  % self.max_iter, ConvergenceWarning)\n",
      "C:\\Users\\uzuki\\anaconda3\\lib\\site-packages\\sklearn\\neural_network\\_multilayer_perceptron.py:571: ConvergenceWarning: Stochastic Optimizer: Maximum iterations (6) reached and the optimization hasn't converged yet.\n",
      "  % self.max_iter, ConvergenceWarning)\n",
      "C:\\Users\\uzuki\\anaconda3\\lib\\site-packages\\sklearn\\neural_network\\_multilayer_perceptron.py:571: ConvergenceWarning: Stochastic Optimizer: Maximum iterations (7) reached and the optimization hasn't converged yet.\n",
      "  % self.max_iter, ConvergenceWarning)\n",
      "C:\\Users\\uzuki\\anaconda3\\lib\\site-packages\\sklearn\\neural_network\\_multilayer_perceptron.py:571: ConvergenceWarning: Stochastic Optimizer: Maximum iterations (8) reached and the optimization hasn't converged yet.\n",
      "  % self.max_iter, ConvergenceWarning)\n",
      "C:\\Users\\uzuki\\anaconda3\\lib\\site-packages\\sklearn\\neural_network\\_multilayer_perceptron.py:571: ConvergenceWarning: Stochastic Optimizer: Maximum iterations (9) reached and the optimization hasn't converged yet.\n",
      "  % self.max_iter, ConvergenceWarning)\n",
      "C:\\Users\\uzuki\\anaconda3\\lib\\site-packages\\sklearn\\neural_network\\_multilayer_perceptron.py:571: ConvergenceWarning: Stochastic Optimizer: Maximum iterations (10) reached and the optimization hasn't converged yet.\n",
      "  % self.max_iter, ConvergenceWarning)\n"
     ]
    }
   ],
   "source": [
    "mlp_hw = MLPClassifier(solver='sgd', hidden_layer_sizes = [60], batch_size = 1, max_iter = 1, activation = 'logistic')\n",
    "\n",
    "\n",
    "for i in range(1, 11) :\n",
    "    \n",
    "    mlp_hw = MLPClassifier(solver='sgd', hidden_layer_sizes = [60], batch_size = 1, max_iter = i, activation = 'logistic')\n",
    "\n",
    "    mlp_hw.fit(X_train, y_train)\n",
    "    \n",
    "    result.append(mlp_hw.score(X_train, y_train))\n",
    "\n",
    "    result1.append(mlp_hw.score(X_test, y_test))\n"
   ]
  },
  {
   "cell_type": "code",
   "execution_count": 4,
   "metadata": {},
   "outputs": [],
   "source": [
    "\n",
    "result_fit1 = [0.91276, 0.92634, 0.9326, 0.936, 0.93768, 0.93952, 0.93984, 0.94, 0.94192, 0.94038]\n",
    "\n",
    "result_general1 = [0.9196, 0.9292, 0.9335, 0.9336, 0.9349, 0.9342, 0.9347, 0.9347, 0.9341, 0.9322]\n",
    "\n",
    "result_fit = [0.8953, 0.90434, 0.91802, 0.91686, 0.9215, 0.92112, 0.91962, 0.92002, 0.9228, 0.91928]\n",
    "\n",
    "result_general = [0.9013, 0.9126, 0.9222, 0.9184, 0.922, 0.9209, 0.9218, 0.9216, 0.9221, 0.9231]"
   ]
  },
  {
   "cell_type": "markdown",
   "metadata": {},
   "source": [
    "绘制图像"
   ]
  },
  {
   "cell_type": "code",
   "execution_count": 7,
   "metadata": {},
   "outputs": [
    {
     "data": {
      "image/png": "[encoded data removed]",
      "text/plain": [
       "<Figure size 432x288 with 1 Axes>"
      ]
     },
     "metadata": {
      "needs_background": "light"
     },
     "output_type": "display_data"
    }
   ],
   "source": [
    "import matplotlib.pyplot as plt\n",
    "import numpy as np\n",
    "from scipy.interpolate import make_interp_spline\n",
    "\n",
    "plt.xticks(np.arange(0, len(result) + 2, 1))\n",
    "\n",
    "plt.xlim((0, len(result) + 2))\n",
    "\n",
    "plt.yticks(np.arange(0, 1.01, 0.01))\n",
    "\n",
    "plt.ylim((0.87, 1))\n",
    "\n",
    "plt.plot(range(2, len(result_fit1) + 2), result_fit1, color = '#aaffaa', label = 'CEE-FIT')\n",
    "\n",
    "plt.plot(range(2, len(result_general1) + 2), result_general1, color = '#660066', label = 'CEE-GENERAL')\n",
    "\n",
    "plt.plot(range(2, len(result_fit) + 2), result_fit, color = '#00ff00', label = 'MSE-FIT')\n",
    "\n",
    "plt.plot(range(2, len(result_general) + 2), result_general, color = '#00ffff', label = 'MSE-GENERAL')\n",
    "\n",
    "plt.plot(range(2, len(result) + 2), result, color = '#ff0000', label = 'SK-FIT')\n",
    "\n",
    "plt.plot(range(2, len(result1) + 2), result1, color = '#0000ff', label = 'SK-GENERAL')\n",
    "\n",
    "plt.title('MNIST')\n",
    "\n",
    "plt.ylabel('correct ratio')\n",
    "\n",
    "plt.xlabel('epoch')\n",
    "\n",
    "plt.legend()\n",
    "\n",
    "plt.show()\n",
    "\n"
   ]
  },
  {
   "cell_type": "code",
   "execution_count": null,
   "metadata": {},
   "outputs": [],
   "source": []
  }
 ],
 "metadata": {
  "kernelspec": {
   "display_name": "Python 3",
   "language": "python",
   "name": "python3"
  },
  "language_info": {
   "codemirror_mode": {
    "name": "ipython",
    "version": 3
   },
   "file_extension": ".py",
   "mimetype": "text/x-python",
   "name": "python",
   "nbconvert_exporter": "python",
   "pygments_lexer": "ipython3",
   "version": "3.7.6"
  }
 },
 "nbformat": 4,
 "nbformat_minor": 4
}
