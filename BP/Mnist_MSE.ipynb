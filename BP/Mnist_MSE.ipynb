{
 "cells": [
  {
   "cell_type": "code",
   "execution_count": 1,
   "metadata": {},
   "outputs": [],
   "source": [
    "import matplotlib.pyplot as plt\n",
    "import numpy as np\n",
    "from sklearn.datasets import fetch_openml\n",
    "\n",
    "mnist = fetch_openml('mnist_784')"
   ]
  },
  {
   "cell_type": "code",
   "execution_count": 2,
   "metadata": {},
   "outputs": [],
   "source": [
    "np.set_printoptions(suppress = True)\n",
    "\n",
    "def normalization_Mnist(src) :\n",
    "    \n",
    "    dst = (src - src.min()) / (src.max() - src.min())\n",
    "    \n",
    "    return dst\n",
    "\n",
    "def target_Mnist() :\n",
    "    res = []\n",
    "    \n",
    "    for i in range(0, 10) :\n",
    "        res.append(np.zeros(10))\n",
    "        \n",
    "        res[i][i] = 1;\n",
    "    \n",
    "    return res"
   ]
  },
  {
   "cell_type": "code",
   "execution_count": 3,
   "metadata": {},
   "outputs": [],
   "source": [
    "import network\n",
    "\n",
    "MLnetwork = network.network([784, 60, 10])\n",
    "\n",
    "tar = target_Mnist()"
   ]
  },
  {
   "cell_type": "code",
   "execution_count": 4,
   "metadata": {},
   "outputs": [],
   "source": [
    "data = normalization_Mnist(mnist[\"data\"])\n",
    "\n",
    "target = mnist[\"target\"]\n",
    "\n",
    "training_data = data[0:50000]\n",
    "\n",
    "test_data = data[50000:60000]\n",
    "\n",
    "training_target = target[0:50000]\n",
    "\n",
    "test_target = target[50000:60000]"
   ]
  },
  {
   "cell_type": "code",
   "execution_count": 5,
   "metadata": {},
   "outputs": [],
   "source": [
    "result_fit = []\n",
    "\n",
    "result_general = []"
   ]
  },
  {
   "cell_type": "markdown",
   "metadata": {},
   "source": [
    "测试评估区"
   ]
  },
  {
   "cell_type": "code",
   "execution_count": 29,
   "metadata": {},
   "outputs": [],
   "source": [
    "count = 0\n",
    "\n",
    "for i in range(0, len(training_data)) :\n",
    "    \n",
    "    count += np.argmax(MLnetwork.feedForward(training_data[i])) == int(training_target[i])\n",
    "    \n",
    "result_fit.append(count / len(training_data))\n",
    "\n",
    "count = 0\n",
    "\n",
    "for i in range(0, len(test_data)) :\n",
    "    \n",
    "    count += np.argmax(MLnetwork.feedForward(test_data[i])) == int(test_target[i])\n",
    "    \n",
    "result_general.append(count / len(test_data))"
   ]
  },
  {
   "cell_type": "markdown",
   "metadata": {},
   "source": [
    "反向传播区"
   ]
  },
  {
   "cell_type": "code",
   "execution_count": 28,
   "metadata": {},
   "outputs": [],
   "source": [
    "for i in range(0, len(training_data)) :\n",
    "    MLnetwork.backProp(training_data[i], tar[int(training_target[i])], 1.0, network.network.costFun.MSE, 0.0)"
   ]
  },
  {
   "cell_type": "markdown",
   "metadata": {},
   "source": [
    "图像绘制区"
   ]
  },
  {
   "cell_type": "code",
   "execution_count": 30,
   "metadata": {
    "scrolled": true
   },
   "outputs": [
    {
     "data": {
      "image/png": "[encoded data removed]",
      "text/plain": [
       "<Figure size 432x288 with 1 Axes>"
      ]
     },
     "metadata": {
      "needs_background": "light"
     },
     "output_type": "display_data"
    },
    {
     "name": "stdout",
     "output_type": "stream",
     "text": [
      "[0.09864, 0.88956, 0.90328, 0.91026]\n",
      "[0.0991, 0.8954, 0.9097, 0.9151]\n"
     ]
    }
   ],
   "source": [
    "plt.xticks(np.arange(0, len(result_fit) + 1, 1))\n",
    "\n",
    "plt.xlim((0, len(result_fit) + 1))\n",
    "\n",
    "plt.yticks(np.arange(0, 1.1, 0.1))\n",
    "\n",
    "plt.ylim((0, 1.0))\n",
    "\n",
    "plt.plot(range(1, len(result_fit) + 1), result_fit, color = '#ff0000', label = 'FIT')\n",
    "\n",
    "plt.plot(range(1, len(result_general) + 1), result_general, color = '#0000ff', label = 'GENERAL')\n",
    "\n",
    "plt.title('MNIST')\n",
    "\n",
    "plt.ylabel('correct ratio')\n",
    "\n",
    "plt.xlabel('epoch')\n",
    "\n",
    "for x in range(0, len(result_fit)):  \n",
    "    plt.text(x + 1, 0.0, round(result_fit[x], 2), \n",
    "             verticalalignment = \"bottom\", \n",
    "             horizontalalignment = \"left\", \n",
    "             fontsize = 10, color = '#aa0000')\n",
    "    plt.text(x + 1, 0.10, round(result_general[x], 2), \n",
    "             verticalalignment = \"bottom\", \n",
    "             horizontalalignment = \"left\", \n",
    "             fontsize = 10, color = '#0000aa')\n",
    "\n",
    "plt.legend(loc='center')\n",
    "\n",
    "plt.show()\n",
    "\n",
    "print(result_fit)\n",
    "\n",
    "print(result_general)"
   ]
  },
  {
   "cell_type": "markdown",
   "metadata": {},
   "source": [
    "随机抽样区"
   ]
  },
  {
   "cell_type": "code",
   "execution_count": 42,
   "metadata": {},
   "outputs": [
    {
     "name": "stdout",
     "output_type": "stream",
     "text": [
      "[0.00480427 0.00104393 0.00689368 0.0829984  0.04255016 0.04757973\n",
      " 0.00065721 0.0179793  0.20764871 0.64234193]\n",
      "9\n",
      "8\n"
     ]
    },
    {
     "data": {
      "image/png": "[encoded data removed]",
      "text/plain": [
       "<Figure size 432x288 with 1 Axes>"
      ]
     },
     "metadata": {
      "needs_background": "light"
     },
     "output_type": "display_data"
    }
   ],
   "source": [
    "while True :\n",
    "\n",
    "    sample_Id = int(np.random.rand(1) * len(test_data) )\n",
    "    \n",
    "    test_target[sample_Id]\n",
    "\n",
    "    resu = np.argmax(MLnetwork.feedForward(test_data[sample_Id]))\n",
    "    \n",
    "    if(int(test_target[sample_Id]) != resu) : \n",
    "\n",
    "        digit = test_data[sample_Id]\n",
    "\n",
    "        digit_image = digit.reshape(28, 28)\n",
    "\n",
    "        plt.imshow(digit_image, cmap = plt.cm.binary, interpolation=\"nearest\")\n",
    "\n",
    "        plt.axis(\"on\")\n",
    "\n",
    "        print(MLnetwork.feedForward(test_data[sample_Id]))\n",
    "\n",
    "        print(resu)\n",
    "\n",
    "        print(test_target[sample_Id])\n",
    "\n",
    "        break\n",
    "\n"
   ]
  },
  {
   "cell_type": "code",
   "execution_count": null,
   "metadata": {},
   "outputs": [],
   "source": []
  },
  {
   "cell_type": "code",
   "execution_count": null,
   "metadata": {},
   "outputs": [],
   "source": []
  }
 ],
 "metadata": {
  "kernelspec": {
   "display_name": "Python 3",
   "language": "python",
   "name": "python3"
  },
  "language_info": {
   "codemirror_mode": {
    "name": "ipython",
    "version": 3
   },
   "file_extension": ".py",
   "mimetype": "text/x-python",
   "name": "python",
   "nbconvert_exporter": "python",
   "pygments_lexer": "ipython3",
   "version": "3.7.6"
  }
 },
 "nbformat": 4,
 "nbformat_minor": 4
}
