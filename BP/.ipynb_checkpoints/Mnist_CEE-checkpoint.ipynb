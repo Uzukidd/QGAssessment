{
 "cells": [
  {
   "cell_type": "code",
   "execution_count": 1,
   "metadata": {},
   "outputs": [],
   "source": [
    "import matplotlib.pyplot as plt\n",
    "import numpy as np\n",
    "from sklearn.datasets import fetch_openml\n",
    "\n",
    "mnist = fetch_openml('mnist_784')"
   ]
  },
  {
   "cell_type": "code",
   "execution_count": 44,
   "metadata": {},
   "outputs": [],
   "source": [
    "np.set_printoptions(suppress = True)\n",
    "\n",
    "def normalization_Mnist(src) :\n",
    "    \n",
    "    dst = (src - src.min()) / (src.max() - src.min())\n",
    "    \n",
    "    return dst\n",
    "\n",
    "def target_Mnist() :\n",
    "    res = []\n",
    "    \n",
    "    for i in range(0, 10) :\n",
    "        res.append(np.zeros(10))\n",
    "        \n",
    "        res[i][i] = 1;\n",
    "    \n",
    "    return res"
   ]
  },
  {
   "cell_type": "code",
   "execution_count": 5,
   "metadata": {},
   "outputs": [],
   "source": [
    "import network\n",
    "\n",
    "MLnetwork = network.network([784, 60, 10])\n",
    "\n",
    "tar = target_Mnist()"
   ]
  },
  {
   "cell_type": "code",
   "execution_count": 9,
   "metadata": {},
   "outputs": [],
   "source": [
    "data = normalization_Mnist(mnist[\"data\"])\n",
    "\n",
    "target = mnist[\"target\"]\n",
    "\n",
    "training_data = data[0:50000]\n",
    "\n",
    "test_data = data[50000:60000]\n",
    "\n",
    "training_target = target[0:50000]\n",
    "\n",
    "test_target = target[50000:60000]"
   ]
  },
  {
   "cell_type": "code",
   "execution_count": 12,
   "metadata": {},
   "outputs": [],
   "source": [
    "result_fit = []\n",
    "\n",
    "result_general = []"
   ]
  },
  {
   "cell_type": "code",
   "execution_count": 83,
   "metadata": {},
   "outputs": [],
   "source": [
    "count = 0\n",
    "\n",
    "for i in range(0, len(training_data)) :\n",
    "    \n",
    "    count += np.argmax(MLnetwork.feedForward(training_data[i])) == int(training_target[i])\n",
    "    \n",
    "result_fit.append(count / len(training_data))\n",
    "\n",
    "count = 0\n",
    "\n",
    "for i in range(0, len(test_data)) :\n",
    "    \n",
    "    count += np.argmax(MLnetwork.feedForward(test_data[i])) == int(test_target[i])\n",
    "    \n",
    "result_general.append(count / len(test_data))"
   ]
  },
  {
   "cell_type": "code",
   "execution_count": 82,
   "metadata": {},
   "outputs": [],
   "source": [
    "for i in range(0, len(training_data)) :\n",
    "    MLnetwork.backProp(training_data[i], tar[int(training_target[i])], 1.0, network.network.costFun.CEE)"
   ]
  },
  {
   "cell_type": "code",
   "execution_count": 128,
   "metadata": {},
   "outputs": [
    {
     "data": {
      "image/png": "[encoded data removed]",
      "text/plain": [
       "<Figure size 432x288 with 1 Axes>"
      ]
     },
     "metadata": {
      "needs_background": "light"
     },
     "output_type": "display_data"
    },
    {
     "name": "stdout",
     "output_type": "stream",
     "text": [
      "[0.11356, 0.63756, 0.7291, 0.72904, 0.69884, 0.69952, 0.70382, 0.72698, 0.70056, 0.70702, 0.6862]\n",
      "[0.1064, 0.6571, 0.7599, 0.7573, 0.7296, 0.7299, 0.7322, 0.7545, 0.7292, 0.7398, 0.722]\n"
     ]
    }
   ],
   "source": [
    "plt.xticks(np.arange(0, len(result_fit) + 1, 1))\n",
    "\n",
    "plt.xlim((0, len(result_fit) + 1))\n",
    "\n",
    "plt.yticks(np.arange(0, 1.1, 0.1))\n",
    "\n",
    "plt.ylim((0, 1))\n",
    "\n",
    "plt.plot(range(1, len(result_fit) + 1), result_fit, color = '#ff0000', label = 'FIT')\n",
    "\n",
    "plt.plot(range(1, len(result_general) + 1), result_general, color = '#0000ff', label = 'GENERAL')\n",
    "\n",
    "plt.title('MNIST')\n",
    "\n",
    "plt.ylabel('correct ratio')\n",
    "\n",
    "plt.xlabel('epoch')\n",
    "\n",
    "for x in range(0, len(result_fit)):  \n",
    "    plt.text(x + 1, 0.0, round(result_fit[x], 2), \n",
    "             verticalalignment = \"bottom\", \n",
    "             horizontalalignment = \"left\", \n",
    "             fontsize = 10, color = '#aa0000')\n",
    "    plt.text(x + 1, 0.10, round(result_general[x], 2), \n",
    "             verticalalignment = \"bottom\", \n",
    "             horizontalalignment = \"left\", \n",
    "             fontsize = 10, color = '#0000aa')\n",
    "\n",
    "plt.legend()\n",
    "\n",
    "plt.show()\n",
    "\n",
    "print(result_fit)\n",
    "\n",
    "print(result_general)"
   ]
  },
  {
   "cell_type": "code",
   "execution_count": 123,
   "metadata": {},
   "outputs": [
    {
     "name": "stdout",
     "output_type": "stream",
     "text": [
      "[0.         0.00000004 0.00000001 0.         0.00497235 0.00002942\n",
      " 0.         0.69376719 0.00024016 0.00191838]\n",
      "7\n"
     ]
    },
    {
     "data": {
      "image/png": "[encoded data removed]",
      "text/plain": [
       "<Figure size 432x288 with 1 Axes>"
      ]
     },
     "metadata": {
      "needs_background": "light"
     },
     "output_type": "display_data"
    }
   ],
   "source": [
    "sample_Id = int(np.random.rand(1) * len(test_data) )\n",
    "\n",
    "digit = test_data[sample_Id]\n",
    "\n",
    "digit_image = digit.reshape(28, 28)\n",
    "\n",
    "plt.imshow(digit_image, cmap = plt.cm.binary, interpolation=\"nearest\")\n",
    "\n",
    "plt.axis(\"on\")\n",
    "\n",
    "print(MLnetwork.feedForward(test_data[sample_Id]))\n",
    "\n",
    "print(np.argmax(MLnetwork.feedForward(test_data[sample_Id])))"
   ]
  },
  {
   "cell_type": "code",
   "execution_count": null,
   "metadata": {},
   "outputs": [],
   "source": []
  },
  {
   "cell_type": "code",
   "execution_count": null,
   "metadata": {},
   "outputs": [],
   "source": []
  }
 ],
 "metadata": {
  "kernelspec": {
   "display_name": "Python 3",
   "language": "python",
   "name": "python3"
  },
  "language_info": {
   "codemirror_mode": {
    "name": "ipython",
    "version": 3
   },
   "file_extension": ".py",
   "mimetype": "text/x-python",
   "name": "python",
   "nbconvert_exporter": "python",
   "pygments_lexer": "ipython3",
   "version": "3.7.6"
  }
 },
 "nbformat": 4,
 "nbformat_minor": 4
}
